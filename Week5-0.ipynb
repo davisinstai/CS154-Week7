{
 "cells": [
  {
   "cell_type": "markdown",
   "id": "0258fa9a",
   "metadata": {
    "editable": true,
    "slideshow": {
     "slide_type": "slide"
    },
    "tags": []
   },
   "source": [
    "# The Key Terms for Wednesday\n",
    "\n",
    "* function\n",
    "* `def` statement\n",
    "* module\n",
    "* function parameters and arguments"
   ]
  },
  {
   "cell_type": "markdown",
   "id": "32a091ab",
   "metadata": {
    "editable": true,
    "slideshow": {
     "slide_type": "slide"
    },
    "tags": []
   },
   "source": [
    "# Recap - Functions\n",
    "\n",
    "To write code that is easier to understand and more reusable, we use **encapsulation**. \n",
    "\n",
    "One way to encapsulate code is to put the code in a **function**. \n"
   ]
  },
  {
   "cell_type": "markdown",
   "id": "d3496ffd",
   "metadata": {
    "editable": true,
    "slideshow": {
     "slide_type": "subslide"
    },
    "tags": []
   },
   "source": [
    "Here is a sample python function:\n",
    "```\n",
    "def length(input_text):\n",
    "   print(f'length is %i' % len(input_text))\n",
    "   return len(input_text) \n",
    "```"
   ]
  },
  {
   "cell_type": "markdown",
   "id": "977f48f9",
   "metadata": {
    "editable": true,
    "slideshow": {
     "slide_type": "subslide"
    },
    "tags": []
   },
   "source": [
    "A function definition in python assigns a variable name to a code block:\n",
    "\n",
    "* `def` tells you we are defining a function here\n",
    "* `length` is the variable we will assign to the code block\n",
    "* `input_text` is an **argument** (or **parameter**) that we **pass** into this function\n",
    "* the code block inside this function is two lines long; it prints the length, and then it **returns** the length\n",
    "* this function returns a value, the length of the input text; functions do not have to return a value but many do\n",
    "\n",
    "Once you have defined a function you can can **call** (or use) it in other places."
   ]
  },
  {
   "cell_type": "markdown",
   "id": "bba24c63",
   "metadata": {
    "editable": true,
    "slideshow": {
     "slide_type": "subslide"
    },
    "tags": []
   },
   "source": [
    "Every function you have learned about so far this semester is defined either in 'core' python, or in a python package."
   ]
  },
  {
   "cell_type": "markdown",
   "id": "d2b189bb",
   "metadata": {
    "editable": true,
    "slideshow": {
     "slide_type": "subslide"
    },
    "tags": []
   },
   "source": [
    "We do want to comment our functions. We do this using a **docstring**. The docstring tells readers: what the function does; what the arguments mean, and what the return value should look like (if any). The docstring is set off with three quotes (\"\"\") at start and end.\n",
    "```\n",
    "def length(input_text):\n",
    "   \"\"\"Calculates the length of the input input_text.\n",
    "      :param input_text: some text\n",
    "      :type input_text: string\n",
    "      :returns: the length of input_text\n",
    "      :rtype: int\n",
    "   \"\"\"\n",
    "   print(f'length is %i' % len(input_text))\n",
    "   return len(input_text)\n",
    "```\n",
    "\n",
    "We will write a docstring in this format for every function we define. Sometimes, this may mean we do not need to write a comment for every line of code! (However, for project 2d I give you a comment for almost every line of code.)"
   ]
  },
  {
   "cell_type": "markdown",
   "id": "934714a1",
   "metadata": {
    "editable": true,
    "slideshow": {
     "slide_type": "subslide"
    },
    "tags": []
   },
   "source": [
    "Functions are a convenient shorthand, like a mini-program, that makes our code more **modular**. For example, when you learned about the `print()` function, you didn't need to know all the details of how it works in order to use it. All you need to know is the \"contract\" defined in the function **signature** (the line starting with `def`)."
   ]
  },
  {
   "cell_type": "markdown",
   "id": "3a7fe4b8",
   "metadata": {
    "editable": true,
    "slideshow": {
     "slide_type": "subslide"
    },
    "tags": []
   },
   "source": [
    "In the code cell below, define a function `positive_reinforcement` that takes a user's name (`user_name`) and mood (`mood`). \n",
    "* If the mood is `'happy'` then print 'yay, glad you are happy!'\n",
    "* Otherwise print an encouraging message for the user"
   ]
  },
  {
   "cell_type": "code",
   "execution_count": null,
   "id": "8647e799",
   "metadata": {
    "editable": true,
    "slideshow": {
     "slide_type": "fragment"
    },
    "tags": []
   },
   "outputs": [],
   "source": []
  },
  {
   "cell_type": "markdown",
   "id": "dd4d010d",
   "metadata": {
    "editable": true,
    "slideshow": {
     "slide_type": "subslide"
    },
    "tags": []
   },
   "source": [
    "Now call the function `positive_reinforcement` with your name and current mood."
   ]
  },
  {
   "cell_type": "code",
   "execution_count": null,
   "id": "9cfa9023",
   "metadata": {
    "editable": true,
    "slideshow": {
     "slide_type": "fragment"
    },
    "tags": []
   },
   "outputs": [],
   "source": []
  },
  {
   "cell_type": "markdown",
   "id": "6eec62d1-a4ac-4fff-bf48-c3bf09d4121c",
   "metadata": {
    "editable": true,
    "slideshow": {
     "slide_type": "slide"
    },
    "tags": []
   },
   "source": [
    "# Files and Modules"
   ]
  },
  {
   "cell_type": "markdown",
   "id": "5d90cd2a",
   "metadata": {
    "editable": true,
    "slideshow": {
     "slide_type": "subslide"
    },
    "tags": []
   },
   "source": [
    "\n",
    "Python comes with many functions! However, there are many thousands of other functions that coders have defined and made available for you to use. \n",
    "\n",
    "A **module** is a python file (ending in `.py`) in which a coder has defined some functions. In project 2d, you are implementing several functions in a module. \n",
    "\n",
    "Modules can be collected into groups called **packages** or **libraries**. \n",
    "\n",
    "The general form of importing a module is:\n",
    "`import module_name`\n",
    "\n",
    "Note that we don't include the `.py`, just the file name."
   ]
  },
  {
   "cell_type": "markdown",
   "id": "6fb1eb79",
   "metadata": {
    "editable": true,
    "slideshow": {
     "slide_type": "subslide"
    },
    "tags": []
   },
   "source": [
    "Make a file called `testing_functions.py`. Copy your function definition `positive_reinforcement` and put it in the file. \n",
    "\n",
    "In the code cell below, import that module and then call the function."
   ]
  },
  {
   "cell_type": "code",
   "execution_count": null,
   "id": "ea7191c5",
   "metadata": {
    "editable": true,
    "slideshow": {
     "slide_type": "fragment"
    },
    "tags": []
   },
   "outputs": [],
   "source": []
  },
  {
   "cell_type": "markdown",
   "id": "3e2e4c49-c590-4e8a-a1b9-0eec662891b9",
   "metadata": {
    "editable": true,
    "slideshow": {
     "slide_type": "slide"
    },
    "tags": []
   },
   "source": [
    "# Parameters and Arguments"
   ]
  },
  {
   "cell_type": "markdown",
   "id": "f2714e38",
   "metadata": {
    "editable": true,
    "slideshow": {
     "slide_type": "subslide"
    },
    "tags": []
   },
   "source": [
    "\n",
    "When we define a function, we can specify **parameters** for the function. Each parameter corresponds to a variable name in the function specifiction. When we define the function, we don't know what the value of each parameter will be when the function is called, but we can use the variable names in the code block inside the function.\n",
    "\n",
    "When we actually call the function, the actual variable or value we pass into the function is called an **argument**."
   ]
  },
  {
   "cell_type": "markdown",
   "id": "3be16cfd",
   "metadata": {
    "editable": true,
    "slideshow": {
     "slide_type": "subslide"
    },
    "tags": []
   },
   "source": [
    "Let's look closer at function parameters. In python, we can have **positional** parameters or **keyword** parameters. If a function definition has positional parameters:\n",
    "\n",
    "* when you call the function, you have to give a value for each positional argument\n",
    "* order matters\n"
   ]
  },
  {
   "cell_type": "markdown",
   "id": "56682543-9fbd-4d96-80d5-931ef9c84a23",
   "metadata": {
    "editable": true,
    "slideshow": {
     "slide_type": "subslide"
    },
    "tags": []
   },
   "source": [
    "If a function has keyword parameters:\n",
    "\n",
    "* when you call the function, if you don't give a value for a keywrod argument, the *default* value (specified in the function definition) will be used\n",
    "* order doesn't matter, except that all keyword arguments must come after any positional arguments\n"
   ]
  },
  {
   "cell_type": "markdown",
   "id": "b39152fb-f626-411d-9baf-6a2cb55122e7",
   "metadata": {
    "editable": true,
    "slideshow": {
     "slide_type": "subslide"
    },
    "tags": []
   },
   "source": [
    "Let's take another look at the `print` function. We know it takes one positional argument: the thing to print. But it *also* takes keyword arguments. How would you find out about them? List them and their default values here:\n",
    "\n",
    "* first\n",
    "* second\n",
    "* third\n",
    "* fourth"
   ]
  },
  {
   "cell_type": "code",
   "execution_count": null,
   "id": "0654b721",
   "metadata": {
    "editable": true,
    "slideshow": {
     "slide_type": "fragment"
    },
    "tags": []
   },
   "outputs": [],
   "source": []
  },
  {
   "cell_type": "markdown",
   "id": "1a77edd3",
   "metadata": {
    "editable": true,
    "slideshow": {
     "slide_type": "subslide"
    },
    "tags": []
   },
   "source": [
    "It turns out that the `print` function is really interesting. It can also take *more than one* value for its positional argument. \n",
    "\n",
    "In the code cell below, use a single `print` call to print these three values:\n",
    "* 'hi'\n",
    "* `user_name`\n",
    "* 'it's good to see you!'"
   ]
  },
  {
   "cell_type": "code",
   "execution_count": null,
   "id": "a1e25389",
   "metadata": {
    "editable": true,
    "slideshow": {
     "slide_type": "subslide"
    },
    "tags": []
   },
   "outputs": [],
   "source": []
  },
  {
   "cell_type": "markdown",
   "id": "e70ec919",
   "metadata": {
    "editable": true,
    "slideshow": {
     "slide_type": "subslide"
    },
    "tags": []
   },
   "source": [
    "Now change the separator for these arguments to be ', '."
   ]
  },
  {
   "cell_type": "code",
   "execution_count": null,
   "id": "4dc30146",
   "metadata": {
    "editable": true,
    "slideshow": {
     "slide_type": "fragment"
    },
    "tags": []
   },
   "outputs": [],
   "source": []
  },
  {
   "cell_type": "markdown",
   "id": "1de92f83",
   "metadata": {
    "editable": true,
    "slideshow": {
     "slide_type": "subslide"
    },
    "tags": []
   },
   "source": [
    "\n",
    "If you want to define a function that takes more than one value for a positional argument, you put `*` in front of the target positional argument. In the code cell below, define `positive_reinforcements` to take one *or more* user names (`user_name`) and provide them all with a positive message."
   ]
  },
  {
   "cell_type": "code",
   "execution_count": null,
   "id": "37e2745f",
   "metadata": {
    "editable": true,
    "slideshow": {
     "slide_type": "fragment"
    },
    "tags": []
   },
   "outputs": [],
   "source": []
  },
  {
   "cell_type": "markdown",
   "id": "46736ff3",
   "metadata": {
    "editable": true,
    "slideshow": {
     "slide_type": "subslide"
    },
    "tags": []
   },
   "source": [
    "Now in the code cell below, call `positive_reinforcements`."
   ]
  },
  {
   "cell_type": "code",
   "execution_count": null,
   "id": "02fc7684",
   "metadata": {
    "editable": true,
    "slideshow": {
     "slide_type": "fragment"
    },
    "tags": []
   },
   "outputs": [],
   "source": []
  },
  {
   "cell_type": "markdown",
   "id": "cd1dca2b",
   "metadata": {
    "editable": true,
    "slideshow": {
     "slide_type": "slide"
    },
    "tags": []
   },
   "source": [
    "# Coding Challenge!\n",
    "\n",
    "In the code cell below, define a function `print_dict` that accepts a dictionary of name/occupation pairs. Use a flow control statement to print out the names and occupations in the dictionary. "
   ]
  },
  {
   "cell_type": "code",
   "execution_count": null,
   "id": "bdb557d5",
   "metadata": {
    "editable": true,
    "slideshow": {
     "slide_type": "fragment"
    },
    "tags": []
   },
   "outputs": [],
   "source": [
    "# Define print_dict; include a doc string!\n"
   ]
  },
  {
   "cell_type": "markdown",
   "id": "238befee",
   "metadata": {
    "editable": true,
    "slideshow": {
     "slide_type": "subslide"
    },
    "tags": []
   },
   "source": [
    "Now use `help` to get information about `print_dict`."
   ]
  },
  {
   "cell_type": "code",
   "execution_count": null,
   "id": "81ba69e4",
   "metadata": {
    "editable": true,
    "slideshow": {
     "slide_type": "fragment"
    },
    "tags": []
   },
   "outputs": [],
   "source": []
  },
  {
   "cell_type": "markdown",
   "id": "a92ec35b",
   "metadata": {
    "editable": true,
    "slideshow": {
     "slide_type": "subslide"
    },
    "tags": []
   },
   "source": [
    "Now call `print_dict` on the dictionary `contacts`."
   ]
  },
  {
   "cell_type": "code",
   "execution_count": null,
   "id": "d7bab455",
   "metadata": {
    "editable": true,
    "slideshow": {
     "slide_type": "fragment"
    },
    "tags": []
   },
   "outputs": [],
   "source": [
    "# A dictionary of names and occupations\n",
    "contacts = {\n",
    " 'Amanda Bennett': 'Engineer, electrical',\n",
    " 'Bryan Miller': 'Radiation protection practitioner',\n",
    " 'Chris Garrison': 'Planning and development surveyor',\n",
    " 'Debra Allen': 'Intelligence analyst'}\n",
    "\n",
    "# Call print_dict"
   ]
  },
  {
   "cell_type": "markdown",
   "id": "620d5010",
   "metadata": {
    "editable": true,
    "slideshow": {
     "slide_type": "slide"
    },
    "tags": []
   },
   "source": [
    "# Bonus\n",
    "\n",
    "A function is a first class data type in python, just like integer, float, string or dictionary.\n",
    "\n",
    "This means that you can pass a function into another function! You do this by providing the function name as the argument."
   ]
  },
  {
   "cell_type": "markdown",
   "id": "e77320db-6e0e-4ceb-838d-f71c28936f0d",
   "metadata": {
    "editable": true,
    "slideshow": {
     "slide_type": "subslide"
    },
    "tags": []
   },
   "source": [
    "In the code cell below, define a function `positive_positive_reinforcement`. This function takes two parameters: a user name (`user_name`) and a function to call (`fn_to_call`). It tries to call `function` on `user_name` and print the result with the message 'hey, you did it!'. If an exception is thrown, it prints 'try again, you can do it!'"
   ]
  },
  {
   "cell_type": "code",
   "execution_count": null,
   "id": "b1c60ac0",
   "metadata": {
    "editable": true,
    "slideshow": {
     "slide_type": "fragment"
    },
    "tags": []
   },
   "outputs": [],
   "source": []
  },
  {
   "cell_type": "markdown",
   "id": "b0f666ee",
   "metadata": {
    "editable": true,
    "slideshow": {
     "slide_type": "subslide"
    },
    "tags": []
   },
   "source": [
    "Now call `positive_positive_reinforcement` with a user name and any reasonable string function."
   ]
  },
  {
   "cell_type": "code",
   "execution_count": null,
   "id": "e8d55a32",
   "metadata": {
    "editable": true,
    "slideshow": {
     "slide_type": "fragment"
    },
    "tags": []
   },
   "outputs": [],
   "source": []
  }
 ],
 "metadata": {
  "kernelspec": {
   "display_name": "Python 3 (ipykernel)",
   "language": "python",
   "name": "python3"
  },
  "language_info": {
   "codemirror_mode": {
    "name": "ipython",
    "version": 3
   },
   "file_extension": ".py",
   "mimetype": "text/x-python",
   "name": "python",
   "nbconvert_exporter": "python",
   "pygments_lexer": "ipython3",
   "version": "3.10.8"
  },
  "toc": {
   "base_numbering": 1,
   "nav_menu": {},
   "number_sections": true,
   "sideBar": true,
   "skip_h1_title": true,
   "title_cell": "Table of Contents",
   "title_sidebar": "Contents",
   "toc_cell": false,
   "toc_position": {
    "height": "calc(100% - 180px)",
    "left": "10px",
    "top": "150px",
    "width": "165px"
   },
   "toc_section_display": true,
   "toc_window_display": false
  }
 },
 "nbformat": 4,
 "nbformat_minor": 5
}
