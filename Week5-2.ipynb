{
 "cells": [
  {
   "cell_type": "markdown",
   "id": "b1488c85",
   "metadata": {
    "editable": true,
    "slideshow": {
     "slide_type": "slide"
    },
    "tags": []
   },
   "source": [
    "# The Key Terms for Monday\n",
    "\n",
    "* local scope\n",
    "* global scope\n"
   ]
  },
  {
   "cell_type": "markdown",
   "id": "bd00f72f-12f8-458c-a798-0e46f80639f7",
   "metadata": {
    "editable": true,
    "slideshow": {
     "slide_type": "slide"
    },
    "tags": []
   },
   "source": [
    "# Local and Global Scope"
   ]
  },
  {
   "cell_type": "markdown",
   "id": "e09d8c13",
   "metadata": {
    "editable": true,
    "slideshow": {
     "slide_type": "subslide"
    },
    "tags": []
   },
   "source": [
    "We have seen that functions make maintaining code easier by avoiding duplication. One of the most dangerous areas for duplication is variable names. As a program becomes larger, the possibility that a variable name will be reused goes up. This can cause weird errors in our programs that are hard to track down.\n",
    "\n",
    "However, if a variable name is reused in two function definitions, that does *not* count as code duplication. This is because the variable only exists locally in the context of each separate function definition. You can think of each function as defining a separate world, and each variable name used in a function definition has a separate existence in that function's world. This is a concept called **local scope**."
   ]
  },
  {
   "cell_type": "markdown",
   "id": "cd950e7b",
   "metadata": {
    "editable": true,
    "slideshow": {
     "slide_type": "subslide"
    },
    "tags": []
   },
   "source": [
    "On the other hand, we can also create global variables that are defined outside any function definition (and therefore have **global scope**).\n",
    "\n",
    "* In the global scope, python only knows about variables defined in the global scope, and not about any variables defined in a function.\n",
    "* In the local scope of a function, python knows about any variables defined: inside the function, in the function definition, or in the global scope.\n",
    "* This is a gotcha! It is possible for there to be a global variable and a local variable with the same name. Then, what do you think python should do?\n",
    "\n"
   ]
  },
  {
   "cell_type": "markdown",
   "id": "096b1664",
   "metadata": {
    "editable": true,
    "slideshow": {
     "slide_type": "subslide"
    },
    "tags": []
   },
   "source": [
    "Let's take a look at this. In the code cell below, define three functions, `print_one`,  `print_two` and `print_three`. `print_one` and `print_two` should take a single argument, `value_to_print`; `print_one` should add (concatenate) the string 'one' to `value_to_print` and `print_two` should add the string 'two'. `print_three` should take no arguments, but simply add the string 'three' to `value_to_print`. Then, each function should print `value_to_print`."
   ]
  },
  {
   "cell_type": "code",
   "execution_count": null,
   "id": "0baac51c",
   "metadata": {
    "editable": true,
    "slideshow": {
     "slide_type": "fragment"
    },
    "tags": []
   },
   "outputs": [],
   "source": [
    "# define print_one\n",
    "\n",
    "# define print_two\n",
    "\n",
    "# define print_three\n",
    "\n"
   ]
  },
  {
   "cell_type": "markdown",
   "id": "a93deb60",
   "metadata": {
    "editable": true,
    "slideshow": {
     "slide_type": "subslide"
    },
    "tags": []
   },
   "source": [
    "Now, in the code cell below:\n",
    "\n",
    "1. set the variable `value_to_print` to any string value\n",
    "2. call `print_one`\n",
    "3. call `print_two`\n",
    "4. call `print_three`\n",
    "5. print `value_to_print`\n",
    "\n",
    "What do you observe?"
   ]
  },
  {
   "cell_type": "code",
   "execution_count": null,
   "id": "cd0f0c78",
   "metadata": {
    "editable": true,
    "slideshow": {
     "slide_type": "fragment"
    },
    "tags": []
   },
   "outputs": [],
   "source": [
    "# set value_to_print to any string\n",
    "\n",
    "# call print_one passing in value_to_print\n",
    "\n",
    "# call print_two passing in value_to_print\n",
    "\n",
    "# call print_three\n",
    "\n",
    "# print value_to_print\n"
   ]
  },
  {
   "cell_type": "markdown",
   "id": "e79b5d76",
   "metadata": {
    "editable": true,
    "slideshow": {
     "slide_type": "subslide"
    },
    "tags": []
   },
   "source": [
    "Notice that even though `value_to_print` is defined in multiple locations:\n",
    "\n",
    "* outside any function definition, in the global scope\n",
    "* inside the function specification of `print_one`\n",
    "* inside the function specification of `print_two`\n",
    "\n",
    "its value only changes *inside* a function. \n",
    "\n",
    "* `print_one` and `print_two` each use the value for their parameter `value_to_print` that is passed into them as an argument, in their local scope.\n",
    "* `print_three` accesses the global definition of `value_to_print` from the global scope.\n",
    "* in all three cases, once the local scope is *closed* (the function has finished executing) everything done to `value_to_print` is gone.\n"
   ]
  },
  {
   "cell_type": "markdown",
   "id": "6b7c4c37",
   "metadata": {
    "editable": true,
    "slideshow": {
     "slide_type": "subslide"
    },
    "tags": []
   },
   "source": [
    "It is good coding practice to limit your use of global variables, defining most variables in a local scope to avoid any duplicate variable definitions.\n",
    "\n"
   ]
  }
 ],
 "metadata": {
  "kernelspec": {
   "display_name": "Python 3 (ipykernel)",
   "language": "python",
   "name": "python3"
  },
  "language_info": {
   "codemirror_mode": {
    "name": "ipython",
    "version": 3
   },
   "file_extension": ".py",
   "mimetype": "text/x-python",
   "name": "python",
   "nbconvert_exporter": "python",
   "pygments_lexer": "ipython3",
   "version": "3.10.8"
  }
 },
 "nbformat": 4,
 "nbformat_minor": 5
}
