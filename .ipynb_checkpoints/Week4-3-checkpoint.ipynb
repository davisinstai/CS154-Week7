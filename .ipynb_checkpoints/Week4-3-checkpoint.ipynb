{
 "cells": [
  {
   "cell_type": "markdown",
   "metadata": {},
   "source": [
    "# Review"
   ]
  },
  {
   "cell_type": "markdown",
   "metadata": {
    "editable": true,
    "slideshow": {
     "slide_type": ""
    },
    "tags": []
   },
   "source": [
    "Question 1: *Use the terminal to do the following:*\n",
    "\n",
    "1. create a directory called `my_directory`\n",
    "2. create an empty file in that directory called `my_file.txt`\n",
    "3. copy this week's `README.md` into the directory `my_directory`\n",
    "4. rename it to `readme.txt` (Hint: use `mv`!)\n",
    "5. list the contents of the directory (*all* the contents, including the \"hidden\" directories `.` and `..`)\n",
    "\n",
    "Take a screenshot and add it here."
   ]
  },
  {
   "cell_type": "markdown",
   "metadata": {},
   "source": [
    "Question 2: *Fill in the table below with characters you have to escape inside strings. What does each character do if and if not escaped?*\n",
    "\n",
    "| Escape character | What it does if not escaped | What it does if escaped |\n",
    "| ---------------- | ------------ | ------------ |\n",
    "|                  |              |              |\n",
    "|                  |              |              |"
   ]
  },
  {
   "cell_type": "markdown",
   "metadata": {},
   "source": [
    "Question 3: *For each of these data types, list 3 operators and 2 functions or methods. Try to use as many unique operators and functions/methods as possible in the table:*\n",
    "\n",
    "| Data type | Operators | Functions / Methods |\n",
    "| --------- | --------- | ------------------- |\n",
    "| integer   |           |                     |\n",
    "| floating point number  |           |                     |\n",
    "| string  |           |                     |\n",
    "| boolean  |           |                     |\n",
    "| set  |           |                     |\n",
    "| dictionary  |           |                     |\n",
    "| list  |           |                     |"
   ]
  }
 ],
 "metadata": {
  "kernelspec": {
   "display_name": "Python 3 (ipykernel)",
   "language": "python",
   "name": "python3"
  },
  "language_info": {
   "codemirror_mode": {
    "name": "ipython",
    "version": 3
   },
   "file_extension": ".py",
   "mimetype": "text/x-python",
   "name": "python",
   "nbconvert_exporter": "python",
   "pygments_lexer": "ipython3",
   "version": "3.10.8"
  }
 },
 "nbformat": 4,
 "nbformat_minor": 4
}
