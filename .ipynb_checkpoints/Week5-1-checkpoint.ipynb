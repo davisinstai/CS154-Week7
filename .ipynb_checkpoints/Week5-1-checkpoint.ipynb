{
 "cells": [
  {
   "cell_type": "markdown",
   "id": "b1488c85",
   "metadata": {
    "editable": true,
    "slideshow": {
     "slide_type": "slide"
    },
    "tags": []
   },
   "source": [
    "# The Key Terms for Friday\n",
    "\n",
    "* `return`\n"
   ]
  },
  {
   "cell_type": "markdown",
   "id": "eac39fb4",
   "metadata": {
    "editable": true,
    "slideshow": {
     "slide_type": "slide"
    },
    "tags": []
   },
   "source": [
    "# Function Return Values\n",
    "\n",
    "A python function will always **return** a value when called. \n",
    "\n",
    "* If we don't say what to return in the function definition, the function will return the special value `None`.\n",
    "* If we want to return something other than `None`, we say what to return using `return`. A function can have any number of `return` statements inside flow control statements."
   ]
  },
  {
   "cell_type": "markdown",
   "id": "71e9b59c",
   "metadata": {
    "editable": true,
    "slideshow": {
     "slide_type": "subslide"
    },
    "tags": []
   },
   "source": [
    "Let's write a function for telling fortunes. We can call it `fortune_picker`; it takes a single argument (`fortune_number`) between 1 and 6, and it returns a corresponding fortune. \n",
    "\n",
    "In the code cell below, modify the function to handle the case where the user inputs anything other than a number between 1 and 6."
   ]
  },
  {
   "cell_type": "code",
   "execution_count": null,
   "id": "99938a83",
   "metadata": {
    "editable": true,
    "slideshow": {
     "slide_type": "fragment"
    },
    "tags": []
   },
   "outputs": [],
   "source": [
    "def fortune_picker(fortune_number): \n",
    "    \"\"\"Returns a fortune corresponding to fortune_number\n",
    "\n",
    "    :param fortune_number: a number between 1 and 6\n",
    "    :type fortune_number: int\n",
    "    :returns: a fortune\n",
    "    :rtype: string\n",
    "    \"\"\" \n",
    "    if fortune_number == 1:\n",
    "        return 'You will have six children.'\n",
    "    elif fortune_number == 2:\n",
    "        return 'You will become very wise.'\n",
    "    elif  fortune_number == 3:\n",
    "        return 'A new friend will help you find yourself.'\n",
    "    elif fortune_number == 4:\n",
    "        return 'A great fortune is coming to you.'\n",
    "    elif fortune_number == 5:\n",
    "        return 'That promising venture... it is a trap.'\n",
    "    elif fortune_number == 6: \n",
    "        return 'Sort yourself out then find love.'"
   ]
  },
  {
   "cell_type": "markdown",
   "id": "55261060",
   "metadata": {
    "editable": true,
    "slideshow": {
     "slide_type": "subslide"
    },
    "tags": []
   },
   "source": [
    "Now call `fortune_picker`."
   ]
  },
  {
   "cell_type": "code",
   "execution_count": null,
   "id": "031c8284",
   "metadata": {
    "editable": true,
    "slideshow": {
     "slide_type": "fragment"
    },
    "tags": []
   },
   "outputs": [],
   "source": []
  },
  {
   "cell_type": "markdown",
   "id": "70ec019c",
   "metadata": {
    "editable": true,
    "slideshow": {
     "slide_type": "subslide"
    },
    "tags": []
   },
   "source": [
    "If you want to *keep* the value returned from a function, you must assign it as the value of a variable. In the code cell below, assign the variable `my_fortune` to the value returned from `fortune_picker`."
   ]
  },
  {
   "cell_type": "code",
   "execution_count": null,
   "id": "135accf1",
   "metadata": {
    "editable": true,
    "slideshow": {
     "slide_type": "fragment"
    },
    "tags": []
   },
   "outputs": [],
   "source": []
  },
  {
   "cell_type": "markdown",
   "id": "e31dc429",
   "metadata": {
    "editable": true,
    "slideshow": {
     "slide_type": "subslide"
    },
    "tags": []
   },
   "source": [
    "Some python functions also have **side effects**; for example, a python function may print something out. Printing something out is not the same as returning a value, though, because you can't assign the side effect as the value of a variable."
   ]
  },
  {
   "cell_type": "markdown",
   "id": "b587a4d8",
   "metadata": {
    "editable": true,
    "slideshow": {
     "slide_type": "slide"
    },
    "tags": []
   },
   "source": [
    "# Coding Challenge!\n",
    "\n",
    "Write a function `occupation` that takes one argument (a dictionary of name, occupation pairs), asks the user for a name, and then prints the corresponding occupation. Make sure to handle the case where the name is not in the dictionary (either using `try` and `except`, or using the dictionary method `get()`)."
   ]
  },
  {
   "cell_type": "code",
   "execution_count": null,
   "id": "ff215008",
   "metadata": {
    "editable": true,
    "slideshow": {
     "slide_type": "fragment"
    },
    "tags": []
   },
   "outputs": [],
   "source": []
  },
  {
   "cell_type": "markdown",
   "id": "0675e469",
   "metadata": {
    "editable": true,
    "slideshow": {
     "slide_type": "subslide"
    },
    "tags": []
   },
   "source": [
    "Now call `occupation` and assign the variable `got_occupation` to its return value. What is the value of `got_occupation`?\n",
    "\n",
    "Notice that you can't assign a variable to the printed out occupation."
   ]
  },
  {
   "cell_type": "code",
   "execution_count": null,
   "id": "af0a9f37",
   "metadata": {
    "editable": true,
    "slideshow": {
     "slide_type": "fragment"
    },
    "tags": []
   },
   "outputs": [],
   "source": []
  },
  {
   "cell_type": "markdown",
   "id": "a05370b1",
   "metadata": {
    "editable": true,
    "slideshow": {
     "slide_type": "slide"
    },
    "tags": []
   },
   "source": [
    "Copy the definition of `occupation` into the code cell below and modify it so it returns the occupation corresponding to the user-provided name. "
   ]
  },
  {
   "cell_type": "code",
   "execution_count": null,
   "id": "ba2cad94",
   "metadata": {
    "editable": true,
    "slideshow": {
     "slide_type": "fragment"
    },
    "tags": []
   },
   "outputs": [],
   "source": []
  },
  {
   "cell_type": "markdown",
   "id": "2bde0168",
   "metadata": {
    "editable": true,
    "slideshow": {
     "slide_type": "subslide"
    },
    "tags": []
   },
   "source": [
    "Now call it and assign the variable `got_occupation` to its return value. Now what is the value of `got_occupation`?"
   ]
  },
  {
   "cell_type": "code",
   "execution_count": null,
   "id": "9db68550",
   "metadata": {
    "editable": true,
    "slideshow": {
     "slide_type": "fragment"
    },
    "tags": []
   },
   "outputs": [],
   "source": []
  }
 ],
 "metadata": {
  "kernelspec": {
   "display_name": "Python 3 (ipykernel)",
   "language": "python",
   "name": "python3"
  },
  "language_info": {
   "codemirror_mode": {
    "name": "ipython",
    "version": 3
   },
   "file_extension": ".py",
   "mimetype": "text/x-python",
   "name": "python",
   "nbconvert_exporter": "python",
   "pygments_lexer": "ipython3",
   "version": "3.10.8"
  }
 },
 "nbformat": 4,
 "nbformat_minor": 5
}
