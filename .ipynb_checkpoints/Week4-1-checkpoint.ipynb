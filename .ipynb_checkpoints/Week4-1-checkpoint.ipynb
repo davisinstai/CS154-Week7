{
 "cells": [
  {
   "cell_type": "markdown",
   "id": "b1488c85",
   "metadata": {
    "editable": true,
    "slideshow": {
     "slide_type": "slide"
    },
    "tags": []
   },
   "source": [
    "# The Key Terms for Monday\n",
    "\n",
    "* Unix and Linux\n",
    "* Unix commands for viewing directories and navigating the file system: `pwd`, `ls`, `cd`\n",
    "* Unix commands for previewing files: `head`, `tail`, `more`\n",
    "* Unix commands for creating and moving directories and files: `mkdir`, `rmdir`, `cp`, `mv`, `rm`, `touch`, `cat`\n",
    "* Other Unix commands: `man`, `apropos`, `history`, `clear`\n",
    "* Adding python packages to your environment: `virtualenv` and `pip`"
   ]
  },
  {
   "cell_type": "markdown",
   "id": "f01dfbc8",
   "metadata": {
    "editable": true,
    "slideshow": {
     "slide_type": "slide"
    },
    "tags": []
   },
   "source": [
    "# Introduction"
   ]
  },
  {
   "cell_type": "markdown",
   "id": "cbd0d6d3",
   "metadata": {
    "editable": true,
    "slideshow": {
     "slide_type": "subslide"
    },
    "tags": []
   },
   "source": [
    "The modern computer experience is based around a GUI (graphical user interface) with which the user interacts using a mouse (or touch screen) and keyboard. \n",
    "\n",
    "However, learning the basics of the command line can really make your coding more efficient and give you more control. If you become good at the command line, you will be able to:\n",
    "\n",
    "There are a few reasons:\n",
    "* Modify dozens or hundreds of files at once\n",
    "* Save time hunting for the right 'app' to open a file\n",
    "* Write scripts (code) to automate some tasks\n",
    "* Connect across the internet"
   ]
  },
  {
   "cell_type": "markdown",
   "id": "128e5012",
   "metadata": {
    "editable": true,
    "slideshow": {
     "slide_type": "slide"
    },
    "tags": []
   },
   "source": [
    "# Where Is the Command Line?"
   ]
  },
  {
   "cell_type": "markdown",
   "id": "4253351d",
   "metadata": {
    "editable": true,
    "slideshow": {
     "slide_type": "subslide"
    },
    "tags": []
   },
   "source": [
    "## Mac OS X\n",
    "The command line is installed by default on Mac OS X machines in a utility application named \"Terminal.\" This command line can execute Unix (Linux) commands."
   ]
  },
  {
   "cell_type": "markdown",
   "id": "4ad99bf1-ccd2-48f1-b4d4-1c5b44225bf6",
   "metadata": {
    "editable": true,
    "slideshow": {
     "slide_type": "subslide"
    },
    "tags": []
   },
   "source": [
    "## Windows 10\n",
    "\n",
    "There is a command line installed by default on Windows 10 in a utility application named \"Command Prompt\". This command line can execute DOS commands.\n",
    "\n",
    "You can install a command line application that executes Unix commands. Some choices include:\n",
    "* [WSL](https://learn.microsoft.com/en-us/windows/wsl/about)\n",
    "* [Cygwin](https://www.cygwin.com/)\n",
    "* [Git Bash](https://git-scm.com/downloads)"
   ]
  },
  {
   "cell_type": "markdown",
   "id": "ef0687e6-2971-449f-8f02-ec82eee4ee02",
   "metadata": {
    "editable": true,
    "slideshow": {
     "slide_type": "subslide"
    },
    "tags": []
   },
   "source": [
    "## Code Spaces\n",
    "\n",
    "The command line is in that tab at the bottom of your screen. You can drag it up to see it. It's in the part called \"TERMINAL\"."
   ]
  },
  {
   "cell_type": "markdown",
   "id": "ca41ae67-c322-4e83-a14a-a0e0459470fd",
   "metadata": {
    "editable": true,
    "slideshow": {
     "slide_type": "subslide"
    },
    "tags": []
   },
   "source": [
    "## JupyterHub or JupyterLab\n",
    "\n",
    "If you code python using Jupyter, you can get a (Unix or DOS, depending on the computer on which Juptyer is running) Terminal. Or you can just execute command line commands from a code cell, by prefacing them with `%` or `!` (depending on the infrastructure)."
   ]
  },
  {
   "cell_type": "markdown",
   "id": "eb2e8f75",
   "metadata": {
    "editable": true,
    "slideshow": {
     "slide_type": "slide"
    },
    "tags": []
   },
   "source": [
    "# The Command Prompt\n"
   ]
  },
  {
   "cell_type": "markdown",
   "id": "575e6cf5",
   "metadata": {
    "editable": true,
    "slideshow": {
     "slide_type": "subslide"
    },
    "tags": []
   },
   "source": [
    "\n",
    "When you access the command line, you will be presented with a pretty uninformative prompt like:\n",
    "\n",
    "* `>`\n",
    "* `%`\n",
    "* `%`\n",
    "\n",
    "Don't be dismayed! Today we will learn how to interact with the command line (using Unix/Linux commands) and how to get help. \n",
    "\n",
    "Remember: as long as you are using the command line in a code space, the *worst thing* that will happen is that you have to make a new code space."
   ]
  },
  {
   "cell_type": "markdown",
   "id": "a67d647c",
   "metadata": {
    "editable": true,
    "slideshow": {
     "slide_type": "slide"
    },
    "tags": []
   },
   "source": [
    "# Autocomplete\n",
    "\n",
    "The `TAB` key is great! In most Unix-based systems you can use `TAB` to autocomplete parts of commands, speeding up your work."
   ]
  },
  {
   "cell_type": "markdown",
   "id": "0975793f",
   "metadata": {
    "editable": true,
    "slideshow": {
     "slide_type": "slide"
    },
    "tags": []
   },
   "source": [
    "# Navigating Directories"
   ]
  },
  {
   "cell_type": "markdown",
   "id": "b84807bd",
   "metadata": {
    "editable": true,
    "slideshow": {
     "slide_type": "slide"
    },
    "tags": []
   },
   "source": [
    "The files in a computer are organized in a **file system**. You all know that a file system organizes files into **folders** (or **directories**). If you like to make a lot of directories, there will be long **paths** from your Desktop or Documents folder to any given file.\n",
    "\n",
    "In this section, we will learn Unix commands to navigate the file system."
   ]
  },
  {
   "cell_type": "markdown",
   "id": "a08b81b4",
   "metadata": {
    "editable": true,
    "slideshow": {
     "slide_type": "subslide"
    },
    "tags": []
   },
   "source": [
    "## Where Am I?\n",
    "\n",
    "In the terminal, type `pwd` (short for \"present working directory\"). You should see `/workspaces/CS154-Week3`. This means you are in a directory `CS154-Week3` which is itself in a directory `workspaces`."
   ]
  },
  {
   "cell_type": "markdown",
   "id": "0aee6be5",
   "metadata": {
    "editable": true,
    "slideshow": {
     "slide_type": "subslide"
    },
    "tags": []
   },
   "source": [
    "## What is Here?\n",
    "\n",
    "In the terminal, type `ls` (short for \"list\"). You should see something like this:\n",
    "\n",
    "![Files in this directory](image.png)\n",
    "\n",
    "That means this directory contains files including \"LICENSE\", \"README.md\", \"Week3-0.ipynb\", \"Week3-1.ipynb\", \"Week3-2.ipynb\" and \"Week3-3.ipynb\"."
   ]
  },
  {
   "cell_type": "markdown",
   "id": "f83721cc-762c-4616-99d2-a8cd76956c9a",
   "metadata": {
    "editable": true,
    "slideshow": {
     "slide_type": "subslide"
    },
    "tags": []
   },
   "source": [
    "Now type `ls -la`. (the `-l` and `-a` are **command line arguments** that modify the behavior of `ls`. `-l` means show more information, and `-a` means list *all* the contents of this directory.) You should see something like this:\n",
    "\n",
    "![All files in this directory](image-2.png)\n",
    "\n",
    "That's a lot of information! In fact, it is a table. Here is what some of the columns mean:\n",
    "* first column: the **permissions** on each item in this directory (for example, can you read the item? can you write it?)\n",
    "* fifth column: the size (in kilobytes) of each item in this directory\n",
    "* sixth column: when the item was last modified\n",
    "* seventh column: the item name\n",
    "\n",
    "Notice that directories are colored green."
   ]
  },
  {
   "cell_type": "markdown",
   "id": "b935d04e",
   "metadata": {
    "editable": true,
    "slideshow": {
     "slide_type": "subslide"
    },
    "tags": []
   },
   "source": [
    "## How Do I Move Around?\n",
    "\n",
    "In the terminal, type `cd ..`. This moves you into the directory '..'.\n",
    "\n",
    "Any Unix directory has some special directories:\n",
    "* `.` - this directory\n",
    "* `..` - the directory that contains this directory (the next directory \"up\")\n",
    "\n",
    "Now list the contents of the directory where you have moved to.\n",
    "\n",
    "Questions:\n",
    "* *What do you see?*\n",
    "* *How do you get back to where you were before?*\n",
    "\n",
    "You can use `cd` to go to any **path** in the filesystem. For example, you could say `cd /workspaces/CS154-Week3` to go to the directory \"workspaces\" then the directory \"CS154-Week3\" inside it."
   ]
  },
  {
   "cell_type": "markdown",
   "id": "3271acbd",
   "metadata": {
    "editable": true,
    "slideshow": {
     "slide_type": "subslide"
    },
    "tags": []
   },
   "source": [
    "## How Do I Go Home?\n",
    "\n",
    "Anytime you first access the terminal, you will be placed in a directory that is your \"home\" directory\". From there, you move around using `cd <path>`.\n",
    "\n",
    "It can be easy to get lost in the file system. But you have a pair of metaphorical red slippers (see the Wizard of Oz): just type `cd` to go \"home\". This will usually be a place where your terminal doesn't have any path before the `>`, `%` or `$`."
   ]
  },
  {
   "cell_type": "markdown",
   "id": "51fb2fd4",
   "metadata": {
    "editable": true,
    "slideshow": {
     "slide_type": "slide"
    },
    "tags": []
   },
   "source": [
    "# Looking at Files"
   ]
  },
  {
   "cell_type": "markdown",
   "id": "cbc66031",
   "metadata": {
    "editable": true,
    "slideshow": {
     "slide_type": "subslide"
    },
    "tags": []
   },
   "source": [
    "Of course you can open a file by clicking on it in a GUI. But what if you just want a quick preview of it?\n",
    "\n",
    "In the terminal, make sure you are in `/workspaces/CS154-Week3`. (Hint: type `cd /workspaces/CS154-Week3`.)\n",
    "\n",
    "* Type `head LICENSE` \n",
    "* Type `tail LICENSE`\n",
    "* Type `cat LICENSE`\n",
    "\n",
    "What do you see in each case?"
   ]
  },
  {
   "cell_type": "markdown",
   "id": "492b9a83-5fc3-41c8-9f09-7cd37ff31807",
   "metadata": {
    "editable": true,
    "slideshow": {
     "slide_type": "subslide"
    },
    "tags": []
   },
   "source": [
    "Now type: `more LICENSE`. Here you can view the entire contents of the file, hitting the space bar to continue viewing. As you view, it will show you how far into the file you are in the bottom left. "
   ]
  },
  {
   "cell_type": "markdown",
   "id": "5f631eff",
   "metadata": {
    "editable": true,
    "slideshow": {
     "slide_type": "subslide"
    },
    "tags": []
   },
   "source": [
    "When you are ready to stop viewing, type `Ctrl+C`. `Ctrl+C` is your \"escape\" from most Unix commands.\n",
    "\n",
    "Here are some situations when you might want to use these commands:\n",
    "* The file has no type (no extension) so you need to figure out what it is\n",
    "* The file is really large, and you want to get an idea before trying to open it in an editor\n"
   ]
  },
  {
   "cell_type": "markdown",
   "id": "dd7f32a8",
   "metadata": {
    "editable": true,
    "slideshow": {
     "slide_type": "slide"
    },
    "tags": []
   },
   "source": [
    "# Creating and Moving Directories and Files"
   ]
  },
  {
   "cell_type": "markdown",
   "id": "c1015009",
   "metadata": {
    "editable": true,
    "slideshow": {
     "slide_type": "subslide"
    },
    "tags": []
   },
   "source": [
    "Okay, now let's do something in the file system!"
   ]
  },
  {
   "cell_type": "markdown",
   "id": "5603fcc5-d258-4787-80d5-f676405fd303",
   "metadata": {
    "editable": true,
    "slideshow": {
     "slide_type": "subslide"
    },
    "tags": []
   },
   "source": [
    "## Creating a Directory\n",
    "\n",
    "To make a directory type `mkdir <directory name>`. For ease of reading, directory names should not have whitespaces in them. They should consist of alphanumeric characters plus '-' and '_' **only**.\n",
    "\n",
    "* In the terminal, make a directory called `my_directory`. \n",
    "* Now type `ls`. Do you see `my_directory` in the current directory?\n",
    "* Now type `ls my_directory`. What is in `my_directory`?\n",
    "* Now type `ls -a my_directory`. What do you see?\n",
    "\n"
   ]
  },
  {
   "cell_type": "markdown",
   "id": "e2528066",
   "metadata": {
    "editable": true,
    "slideshow": {
     "slide_type": "subslide"
    },
    "tags": []
   },
   "source": [
    "## Deleting a Directory\n",
    "\n",
    "To remove a directory type `rmdir <directory name>`. This will only work if the directory contains no files. \n",
    "\n",
    "* In the terminal, type `rmdir my_directory`. \n",
    "* Now type `ls`. Do you see `my_directory` in the current directory?\n",
    "\n"
   ]
  },
  {
   "cell_type": "markdown",
   "id": "7c4884ae",
   "metadata": {
    "editable": true,
    "slideshow": {
     "slide_type": "subslide"
    },
    "tags": []
   },
   "source": [
    "## Creating an Empty File\n",
    "\n",
    "To make an empty file type `touch <file name>`. \n",
    "\n",
    "* In the terminal, type `touch my_empty_file.txt`.\n",
    "* Now type `ls`. Do you see `my_empty_file.txt' in the current directory?\n",
    "\n",
    "`touch` can also be used to update the edit date on an existing file.\n",
    "\n",
    "* In the terminal, type `ls -l`. Note the edit date on `Week3-0.ipynb` here:\n",
    "* Now type `touch WEek3-0.ipynb`.\n",
    "* Now type `ls -l`. What is the edit date on `Week3-0.ipynb`?\n",
    "\n"
   ]
  },
  {
   "cell_type": "markdown",
   "id": "eb1fbdad",
   "metadata": {
    "editable": true,
    "slideshow": {
     "slide_type": "subslide"
    },
    "tags": []
   },
   "source": [
    "## Creating a File From Part of Another File\n",
    "\n",
    "To make a nonempty file from another file you can use the `head`, `cat` or `tail` commands and **redirect** its output to a file using the `>` operator. In the Unix terminal, the `>` operator \"sends\" stuff from the left operand to the right operand.\n",
    "\n",
    "* In the terminal, type `head LICENSE > my_file.txt`.\n",
    "* Now type `ls`. Do you see `my_file.txt` in the current directory?\n",
    "* Now type `cat my_file.txt`.\n",
    "\n"
   ]
  },
  {
   "cell_type": "markdown",
   "id": "10794d5f",
   "metadata": {
    "editable": true,
    "slideshow": {
     "slide_type": "subslide"
    },
    "tags": []
   },
   "source": [
    "## Deleting a File\n",
    "\n",
    "To delete a file type `rm <file name>` (`rm` is short for \"remove\".)\n",
    "\n",
    "* In the terminal, type `rm my` and then hit the `TAB` key. What happens?\n",
    "* Now hit the `TAB` key again. What happens?\n",
    "* Now type `e` and hit `TAB` to delete `my_empty_file.txt`.\n",
    "\n"
   ]
  },
  {
   "cell_type": "markdown",
   "id": "c70cb37d",
   "metadata": {
    "editable": true,
    "slideshow": {
     "slide_type": "subslide"
    },
    "tags": []
   },
   "source": [
    "## Copying a File\n",
    "\n",
    "Maybe you want a copy of a file. You can get one using the `cp` (short for \"copy\") command.\n",
    "\n",
    "* In the terminal, type `cp my_file.txt my_second_file.txt`.\n",
    "* Now list the contents of the directory. What do you see?\n",
    "* Now check the contents of `my_second_file.txt`. What do you see?\n",
    "\n"
   ]
  },
  {
   "cell_type": "markdown",
   "id": "8c40b774",
   "metadata": {
    "editable": true,
    "slideshow": {
     "slide_type": "subslide"
    },
    "tags": []
   },
   "source": [
    "## Moving a File\n",
    "\n",
    "You can move a file using the `mv` (short for \"move\") command.  **Be Careful!** Unix *will* let you use `mv` to overwrite a file.\n",
    "\n",
    "* In the terminal, type `mv my_file.txt my_third_file.txt`.\n",
    "* Now list the contents of the directory. What do you see?\n",
    "* Now type `mv my_second_file.txt my_third_file.txt`.\n",
    "* Now list the contents of the directory. What do you see?\n",
    "\n"
   ]
  },
  {
   "cell_type": "markdown",
   "id": "17f9eb5f",
   "metadata": {
    "editable": true,
    "slideshow": {
     "slide_type": "subslide"
    },
    "tags": []
   },
   "source": [
    "## Cleaning Up\n",
    "\n",
    "* Now remove `my_third_file.txt`."
   ]
  },
  {
   "cell_type": "markdown",
   "id": "d01af838",
   "metadata": {
    "editable": true,
    "slideshow": {
     "slide_type": "slide"
    },
    "tags": []
   },
   "source": [
    "# Terminal Help"
   ]
  },
  {
   "cell_type": "markdown",
   "id": "0fab9d4f",
   "metadata": {
    "editable": true,
    "slideshow": {
     "slide_type": "subslide"
    },
    "tags": []
   },
   "source": [
    "## man\n",
    "\n",
    "The terminal comes with built-in help. The command to find out about terminal commands is `man` (short for \"manual\").\n",
    "\n",
    "* In the terminal, type `man ls`. What do you see?\n",
    "\n"
   ]
  },
  {
   "cell_type": "markdown",
   "id": "07b5de9a",
   "metadata": {
    "editable": true,
    "slideshow": {
     "slide_type": "subslide"
    },
    "tags": []
   },
   "source": [
    "## apropos\n",
    "\n",
    "But what if you don't even know the command? Then you can use `apropos`.\n",
    "\n",
    "* In the terminal, type `apropos copy`. What do you see?\n",
    "\n",
    "Many unix commands are in section 1 of the manual. So you can limit your searches. \n",
    "\n",
    "* In the terminal, type `apropos -s 1 copy`. What do you see?\n",
    "\n"
   ]
  },
  {
   "cell_type": "markdown",
   "id": "78520e0f",
   "metadata": {
    "editable": true,
    "slideshow": {
     "slide_type": "subslide"
    },
    "tags": []
   },
   "source": [
    "## history\n",
    "\n",
    "Sometimes you want to know what commands you have run. You can use the `history` command to get this.\n",
    "\n",
    "* In the terminal, type `history`. What do you see?\n",
    "* Let's save what we have done! In the terminal, type `history > history.txt`. Now look at the contents of `history.txt`. What do you see?\n",
    "\n"
   ]
  },
  {
   "cell_type": "markdown",
   "id": "7c1934c8",
   "metadata": {
    "editable": true,
    "slideshow": {
     "slide_type": "subslide"
    },
    "tags": []
   },
   "source": [
    "## clear\n",
    "\n",
    "Sometimes, your terminal gets so confusing you just want a clean slate.\n",
    "\n",
    "* In the terminal, type `clear`. What do you see?"
   ]
  },
  {
   "cell_type": "markdown",
   "id": "c3727d87",
   "metadata": {
    "editable": true,
    "slideshow": {
     "slide_type": "slide"
    },
    "tags": []
   },
   "source": [
    "# Installing Python packages\n"
   ]
  },
  {
   "cell_type": "markdown",
   "id": "3160f9de",
   "metadata": {
    "editable": true,
    "slideshow": {
     "slide_type": "subslide"
    },
    "tags": []
   },
   "source": [
    "If you need a particular package installed for Python, the default package manager is called `pip`. A second package manager called `conda` is popular in data science and is often used with the [Anaconda distribution](https://www.anaconda.com/products/individual) of Python that contains a large variety of packages and software suitable for data science work. \n",
    "\n",
    "For most users, it is suitable to install a package for all users. If you find yourself working on multiple projects at a time with different package, it is a good idea to look into virtual environments. For example, you may work on a project that uses `package version .7` and `package version 2.0`. Each time you switched projects, you would need to reinstall the proper version of the package for the project you're working on. Virtual environments allow you to load a different set of packages depending on which project you're working on.\n",
    "\n"
   ]
  },
  {
   "cell_type": "markdown",
   "id": "4116c18e",
   "metadata": {
    "editable": true,
    "slideshow": {
     "slide_type": "subslide"
    },
    "tags": []
   },
   "source": [
    "## The Python package manager `pip`\n",
    "\n",
    "Installing a package with pip is simple:\n",
    "\n",
    "`pip install package-name`\n",
    "\n",
    "You can uninstall a package with:\n",
    "\n",
    "`pip uninstall package-name`\n",
    "\n"
   ]
  },
  {
   "cell_type": "markdown",
   "id": "72f70475",
   "metadata": {
    "editable": true,
    "slideshow": {
     "slide_type": "subslide"
    },
    "tags": []
   },
   "source": [
    "## The Conda package manager `conda`\n",
    "\n",
    "The Anaconda distribution of Python comes with a graphical user interface that allows you to install and uninstall packages (and create virtual environments) with a mouse. However, you can also use the command line and the process is very simple. \n",
    "\n",
    "To install:\n",
    "\n",
    "`conda install package-name`\n",
    "\n",
    "To uninstall: \n",
    "\n",
    "`conda uninstall package-name`"
   ]
  },
  {
   "cell_type": "markdown",
   "id": "a015f7ef",
   "metadata": {
    "editable": true,
    "slideshow": {
     "slide_type": "slide"
    },
    "tags": []
   },
   "source": [
    "# Final Comments"
   ]
  },
  {
   "cell_type": "markdown",
   "id": "eebd6ee5",
   "metadata": {
    "editable": true,
    "slideshow": {
     "slide_type": "subslide"
    },
    "tags": []
   },
   "source": [
    "This session has just scratched the surface of the Unix terminal.\n",
    "\n",
    "You can use the Unix cheat sheet from Moodle (or any number of Unix cheat sheets from the Web) to get more useful tips.\n",
    "\n",
    "ChatGPT is also pretty useful when it comes to the Unix terminal. (This is not surprising! ChatGPT is trained on the Web, and the Web is full of Unix help!)"
   ]
  }
 ],
 "metadata": {
  "kernelspec": {
   "display_name": "Python 3 (ipykernel)",
   "language": "python",
   "name": "python3"
  },
  "language_info": {
   "codemirror_mode": {
    "name": "ipython",
    "version": 3
   },
   "file_extension": ".py",
   "mimetype": "text/x-python",
   "name": "python",
   "nbconvert_exporter": "python",
   "pygments_lexer": "ipython3",
   "version": "3.10.8"
  }
 },
 "nbformat": 4,
 "nbformat_minor": 5
}
