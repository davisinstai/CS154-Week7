{
 "cells": [
  {
   "cell_type": "markdown",
   "id": "0258fa9a",
   "metadata": {
    "editable": true,
    "slideshow": {
     "slide_type": "slide"
    },
    "tags": []
   },
   "source": [
    "# The Key Terms for Friday\n",
    "\n",
    "* string escape characters\n",
    "* strings as lists"
   ]
  },
  {
   "cell_type": "markdown",
   "id": "129651fc",
   "metadata": {
    "editable": true,
    "slideshow": {
     "slide_type": "slide"
    },
    "tags": []
   },
   "source": [
    "# Escaping String Characters"
   ]
  },
  {
   "cell_type": "markdown",
   "id": "3597b244",
   "metadata": {
    "editable": true,
    "slideshow": {
     "slide_type": "subslide"
    },
    "tags": []
   },
   "source": [
    "Remember that a python string is contained in *either* `\"\"` *or* `''`. But what if the string *itself* contains the end-of-string character?\n",
    "\n",
    "For example, look at the string in the code cell below. If you run that code cell you will get an error."
   ]
  },
  {
   "cell_type": "code",
   "execution_count": 7,
   "id": "82427fa8",
   "metadata": {
    "editable": true,
    "slideshow": {
     "slide_type": "fragment"
    },
    "tags": []
   },
   "outputs": [
    {
     "ename": "SyntaxError",
     "evalue": "unterminated string literal (detected at line 2) (3745037211.py, line 2)",
     "output_type": "error",
     "traceback": [
      "\u001b[0;36m  Cell \u001b[0;32mIn[7], line 2\u001b[0;36m\u001b[0m\n\u001b[0;31m    string = 'Hello World: Here's a string.'\u001b[0m\n\u001b[0m                                           ^\u001b[0m\n\u001b[0;31mSyntaxError\u001b[0m\u001b[0;31m:\u001b[0m unterminated string literal (detected at line 2)\n"
     ]
    }
   ],
   "source": [
    "# Print out a string using single or double quotes\n",
    "string = 'Hello World: Here's a string.'\n",
    "print(string)"
   ]
  },
  {
   "cell_type": "markdown",
   "id": "8f0ecf62",
   "metadata": {
    "editable": true,
    "slideshow": {
     "slide_type": "subslide"
    },
    "tags": []
   },
   "source": [
    "The solution is to **escape** the end of string character. The **escape** character is `\\`. \n",
    "\n",
    "In the code cell below, fix the code from above using the escape character."
   ]
  },
  {
   "cell_type": "code",
   "execution_count": 8,
   "id": "3789d134",
   "metadata": {
    "editable": true,
    "slideshow": {
     "slide_type": "fragment"
    },
    "tags": []
   },
   "outputs": [],
   "source": [
    "# Copy the code from above and fix it using the escape character\n"
   ]
  },
  {
   "cell_type": "markdown",
   "id": "d2c92240",
   "metadata": {
    "editable": true,
    "slideshow": {
     "slide_type": "subslide"
    },
    "tags": []
   },
   "source": [
    "How do we create a string that contains a backslash? Why, add a backslash, of course!\n",
    "\n",
    "In the code cell below, try a string with a `\\`, both escaped and not escaped."
   ]
  },
  {
   "cell_type": "code",
   "execution_count": 9,
   "id": "5259ad33",
   "metadata": {
    "editable": true,
    "slideshow": {
     "slide_type": "fragment"
    },
    "tags": []
   },
   "outputs": [],
   "source": [
    "# String with a \\, not escaped\n",
    "\n",
    "# String with a \\, escaped"
   ]
  },
  {
   "cell_type": "markdown",
   "id": "777c3dad",
   "metadata": {
    "editable": true,
    "slideshow": {
     "slide_type": "subslide"
    },
    "tags": []
   },
   "source": [
    "Escape characters do more than just allow us to add quotes and backslashes. They are also responsible for string formatting for aspects such as tabs and new lines."
   ]
  },
  {
   "cell_type": "markdown",
   "id": "9d6f8e62",
   "metadata": {
    "editable": true,
    "slideshow": {
     "slide_type": "fragment"
    },
    "tags": []
   },
   "source": [
    "|Code|Result|\n",
    "|---|---|\n",
    "|`\\'`| ' |\n",
    "|`\\\\`| \\ |\n",
    "|`\\t`| tab |\n",
    "|`\\n`| new line|"
   ]
  },
  {
   "cell_type": "code",
   "execution_count": 10,
   "id": "0ca47314",
   "metadata": {
    "editable": true,
    "scrolled": true,
    "slideshow": {
     "slide_type": "fragment"
    },
    "tags": []
   },
   "outputs": [],
   "source": [
    "# Print out a string with two lines\n"
   ]
  },
  {
   "cell_type": "code",
   "execution_count": 11,
   "id": "d7022443",
   "metadata": {
    "editable": true,
    "slideshow": {
     "slide_type": "fragment"
    },
    "tags": []
   },
   "outputs": [],
   "source": [
    "# Print out a string with a tab\n"
   ]
  },
  {
   "cell_type": "markdown",
   "id": "0bfd3f7e",
   "metadata": {
    "editable": true,
    "slideshow": {
     "slide_type": "subslide"
    },
    "tags": []
   },
   "source": [
    "If you have a long string with many new lines, you can use `\"\"\"` (triple quote) to start and end it. Take a look at the code cell below."
   ]
  },
  {
   "cell_type": "code",
   "execution_count": 12,
   "id": "5e60b074",
   "metadata": {
    "editable": true,
    "slideshow": {
     "slide_type": "fragment"
    },
    "tags": []
   },
   "outputs": [
    {
     "name": "stdout",
     "output_type": "stream",
     "text": [
      "Shall I compare thee to a summer’s day?\n",
      "Thou art more lovely and more temperate:\n",
      "Rough winds do shake the darling buds of May,\n",
      "And summer’s lease hath all too short a date;\n",
      "Sometime too hot the eye of heaven shines,\n",
      "And often is his gold complexion dimm'd;\n",
      "And every fair from fair sometime declines,\n",
      "By chance or nature’s changing course untrimm'd;\n",
      "But thy eternal summer shall not fade,\n",
      "Nor lose possession of that fair thou ow’st;\n",
      "Nor shall death brag thou wander’st in his shade,\n",
      "When in eternal lines to time thou grow’st:\n",
      "    So long as men can breathe or eyes can see,\n",
      "    So long lives this, and this gives life to thee.\n"
     ]
    }
   ],
   "source": [
    "# Print out Shakespeare's Sonnet 18\n",
    "string = \"\"\"Shall I compare thee to a summer’s day?\n",
    "Thou art more lovely and more temperate:\n",
    "Rough winds do shake the darling buds of May,\n",
    "And summer’s lease hath all too short a date;\n",
    "Sometime too hot the eye of heaven shines,\n",
    "And often is his gold complexion dimm'd;\n",
    "And every fair from fair sometime declines,\n",
    "By chance or nature’s changing course untrimm'd;\n",
    "But thy eternal summer shall not fade,\n",
    "Nor lose possession of that fair thou ow’st;\n",
    "Nor shall death brag thou wander’st in his shade,\n",
    "When in eternal lines to time thou grow’st:\n",
    "    So long as men can breathe or eyes can see,\n",
    "    So long lives this, and this gives life to thee.\"\"\"\n",
    "\n",
    "print(string)\n"
   ]
  },
  {
   "cell_type": "markdown",
   "id": "87d47712",
   "metadata": {
    "editable": true,
    "slideshow": {
     "slide_type": "slide"
    },
    "tags": []
   },
   "source": [
    "# Strings as Lists"
   ]
  },
  {
   "cell_type": "markdown",
   "id": "e5c2ad32",
   "metadata": {
    "editable": true,
    "slideshow": {
     "slide_type": "subslide"
    },
    "tags": []
   },
   "source": [
    "Let's review how strings behave like lists. That is, how you can:\n",
    "* index into them\n",
    "* slice them\n",
    "\n",
    "We will also review string methods that do basic NLP."
   ]
  },
  {
   "cell_type": "markdown",
   "id": "d25aa3c5",
   "metadata": {
    "editable": true,
    "slideshow": {
     "slide_type": "subslide"
    },
    "tags": []
   },
   "source": [
    "## String Indexing\n",
    "\n",
    "In the code cell below, add code to index into `my_string` to get the character `P` and the character `B`."
   ]
  },
  {
   "cell_type": "code",
   "execution_count": 13,
   "id": "68247bf4",
   "metadata": {
    "editable": true,
    "slideshow": {
     "slide_type": "fragment"
    },
    "tags": []
   },
   "outputs": [],
   "source": [
    "# Define my_string\n",
    "my_string = 'Python Basics'\n",
    "\n",
    "# Where is P?\n",
    "\n",
    "# Where is B?"
   ]
  },
  {
   "cell_type": "markdown",
   "id": "57552b08",
   "metadata": {
    "editable": true,
    "slideshow": {
     "slide_type": "subslide"
    },
    "tags": []
   },
   "source": [
    "## String Slicing\n",
    "\n",
    "In the code cell below, add code to get the word `Python` out of `my_string`."
   ]
  },
  {
   "cell_type": "code",
   "execution_count": 14,
   "id": "69fede5a",
   "metadata": {
    "editable": true,
    "slideshow": {
     "slide_type": "fragment"
    },
    "tags": []
   },
   "outputs": [],
   "source": [
    "# Where is Python? Slice!\n"
   ]
  },
  {
   "cell_type": "markdown",
   "id": "cc435661",
   "metadata": {
    "editable": true,
    "slideshow": {
     "slide_type": "subslide"
    },
    "tags": []
   },
   "source": [
    "## String Comprehensions\n",
    "\n",
    "In the code cell below, write a for loop to print out each character of `my_string`.\n",
    "\n",
    "Then write a comprehension that does the same thing."
   ]
  },
  {
   "cell_type": "code",
   "execution_count": 15,
   "id": "1dce18e5",
   "metadata": {
    "editable": true,
    "slideshow": {
     "slide_type": "fragment"
    },
    "tags": []
   },
   "outputs": [],
   "source": [
    "# for loop iterating over my_string\n",
    "\n",
    "\n",
    "# list comprehension iterating over my_string\n"
   ]
  },
  {
   "cell_type": "markdown",
   "id": "62b96ff9",
   "metadata": {
    "editable": true,
    "slideshow": {
     "slide_type": "slide"
    },
    "tags": []
   },
   "source": [
    "## String Methods"
   ]
  },
  {
   "cell_type": "markdown",
   "id": "16a64579",
   "metadata": {
    "editable": true,
    "slideshow": {
     "slide_type": "subslide"
    },
    "tags": []
   },
   "source": [
    "### Manipulate Strings"
   ]
  },
  {
   "cell_type": "markdown",
   "id": "627ab00f",
   "metadata": {
    "editable": true,
    "slideshow": {
     "slide_type": "fragment"
    },
    "tags": []
   },
   "source": [
    "There are a variety of methods for manipulating strings. \n",
    "\n",
    "\n",
    "|Method | Definition |\n",
    "|---|---|\n",
    "| `lower()` | change the string to lowercase | \n",
    "|`upper()` | change the string to uppercase | \n",
    "|`join()` | joins together a list of strings | \n",
    "|`split()` | splits strings apart | \n",
    "|`replace()` | replaces characters in a string | \n",
    "|`rjust()`, `ljust()`, `center()` | pad out a string | \n",
    "|`rstrip()`, `lstrip()`, `strip()`| strip out whitespace | \n",
    "\n",
    "In the code cell below, try each of these methods on `my_string`. Pay particular attention to which methods:\n",
    "\n",
    "* change `my_string` *in place*\n",
    "* do not change `my_string` *in place*, but return a new string (that you should assign to a new variable)\n",
    "\n",
    "(Hint: after you apply the method, print `my_string`!)"
   ]
  },
  {
   "cell_type": "code",
   "execution_count": null,
   "id": "dd711113",
   "metadata": {
    "editable": true,
    "slideshow": {
     "slide_type": "fragment"
    },
    "tags": []
   },
   "outputs": [],
   "source": [
    "# Try string methods one by one; which ones modify my_string in place and which ones return a new string?\n"
   ]
  },
  {
   "cell_type": "markdown",
   "id": "54c6f97a",
   "metadata": {
    "editable": true,
    "slideshow": {
     "slide_type": "subslide"
    },
    "tags": []
   },
   "source": [
    "### Check String Contents\n",
    "\n",
    "There are a variety of ways to to verify the contents of a string. These return a Boolean `True` or `False` and are useful for flow control. For example, we can check if a particular set of characters is inside of a string with the `in` and `not in` operators. In the code cell below, check whether these are in `my_string`:\n",
    "\n",
    "* `B`\n",
    "* `Py`\n",
    "* `Advanced`"
   ]
  },
  {
   "cell_type": "code",
   "execution_count": 16,
   "id": "f4a960cb",
   "metadata": {
    "editable": true,
    "slideshow": {
     "slide_type": "fragment"
    },
    "tags": []
   },
   "outputs": [],
   "source": [
    "# Check whether a set of characters can be found in a string\n"
   ]
  },
  {
   "cell_type": "markdown",
   "id": "f9f5cd5d",
   "metadata": {
    "editable": true,
    "slideshow": {
     "slide_type": "subslide"
    },
    "tags": []
   },
   "source": [
    "The following string methods also return Boolean `True` or `False` values.\n",
    "\n",
    "|Method | Definition | \n",
    "|---|---|\n",
    "|`startswith()`, `endswith()`| returns `True` if the string starts/ends with another string |\n",
    "|`isupper()`, `islower()`| returns `True` if all characters are upper or lowercase|\n",
    "|`isalpha()`| returns `True` if string is only letters and not blank |\n",
    "|`isalnum()`| returns `True` if string only letters or numbers but not blank |\n",
    "|`isdigit()`| returns`True` if string is only numbers and not blank |\n",
    "\n",
    "In the code cell below, try these methods on `my_new_string`. Your goal is to find a way to make each method return `True`. You will need to take slices of `my_new_string`."
   ]
  },
  {
   "cell_type": "code",
   "execution_count": null,
   "id": "83686070",
   "metadata": {
    "editable": true,
    "slideshow": {
     "slide_type": "fragment"
    },
    "tags": []
   },
   "outputs": [],
   "source": [
    "# Try string methods on my_new_string\n",
    "my_new_string = 'The Colby academic year has 3 terms and lasts about 9 months.'\n"
   ]
  },
  {
   "cell_type": "markdown",
   "id": "3b63d79d",
   "metadata": {
    "editable": true,
    "slideshow": {
     "slide_type": "slide"
    },
    "tags": []
   },
   "source": [
    "# Optional Advanced Topic: Python Packages that Interpret Strings\n",
    "\n",
    "You may remember that spaCy *also* provides several of these types of metadata about strings. spaCy just uses the python implementation!\n",
    "\n",
    "There are other python libraries that do interesting NLP-ish things with strings. Here are a couple:\n",
    "\n",
    "* [parsedatetime](https://pypi.org/project/parsedatetime/)\n",
    "* [number-parser](https://pypi.org/project/number-parser/)\n",
    "\n",
    "In the code cells below:\n",
    "\n",
    "1. pip install one of them\n",
    "2. import it\n",
    "3. referring to its documentation, try it out"
   ]
  },
  {
   "cell_type": "code",
   "execution_count": null,
   "id": "d6f2b954",
   "metadata": {
    "editable": true,
    "slideshow": {
     "slide_type": "fragment"
    },
    "tags": []
   },
   "outputs": [],
   "source": [
    "# pip install a python package\n"
   ]
  },
  {
   "cell_type": "code",
   "execution_count": null,
   "id": "04ce9596",
   "metadata": {
    "editable": true,
    "slideshow": {
     "slide_type": "fragment"
    },
    "tags": []
   },
   "outputs": [],
   "source": [
    "# import it\n"
   ]
  },
  {
   "cell_type": "code",
   "execution_count": null,
   "id": "96c6187d",
   "metadata": {
    "editable": true,
    "slideshow": {
     "slide_type": "fragment"
    },
    "tags": []
   },
   "outputs": [],
   "source": [
    "# try it out\n"
   ]
  }
 ],
 "metadata": {
  "kernelspec": {
   "display_name": "Python 3 (ipykernel)",
   "language": "python",
   "name": "python3"
  },
  "language_info": {
   "codemirror_mode": {
    "name": "ipython",
    "version": 3
   },
   "file_extension": ".py",
   "mimetype": "text/x-python",
   "name": "python",
   "nbconvert_exporter": "python",
   "pygments_lexer": "ipython3",
   "version": "3.10.8"
  },
  "toc": {
   "base_numbering": 1,
   "nav_menu": {},
   "number_sections": true,
   "sideBar": true,
   "skip_h1_title": true,
   "title_cell": "Table of Contents",
   "title_sidebar": "Contents",
   "toc_cell": false,
   "toc_position": {
    "height": "calc(100% - 180px)",
    "left": "10px",
    "top": "150px",
    "width": "165px"
   },
   "toc_section_display": true,
   "toc_window_display": false
  }
 },
 "nbformat": 4,
 "nbformat_minor": 5
}
