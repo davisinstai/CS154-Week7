{
 "cells": [
  {
   "cell_type": "markdown",
   "id": "b1488c85",
   "metadata": {
    "editable": true,
    "slideshow": {
     "slide_type": "slide"
    },
    "tags": []
   },
   "source": [
    "# The Key Terms for Wednesday\n",
    "\n",
    "* recursion"
   ]
  },
  {
   "cell_type": "markdown",
   "id": "f486bdb2-3f85-4c52-8393-73619822c1e5",
   "metadata": {
    "editable": true,
    "slideshow": {
     "slide_type": "slide"
    },
    "tags": []
   },
   "source": [
    "# Recursion"
   ]
  },
  {
   "cell_type": "markdown",
   "id": "e09d8c13",
   "metadata": {
    "editable": true,
    "slideshow": {
     "slide_type": "subslide"
    },
    "tags": []
   },
   "source": [
    "Sometimes, you will want to call a function *inside itself*. \n",
    "\n",
    "I acknowledge that this sounds crazy, but **recursion** is actually sometimes the most elegant (readable) way to implement a function.\n",
    "\n",
    "Generally, a problem lends itself to a **recursive** solution if:\n",
    "* There is a simple base case (or cases)\n",
    "* For complex cases, there is a recursive step - something you can do to *reduce* the complex case towards a simple base case\n",
    "\n"
   ]
  },
  {
   "cell_type": "markdown",
   "id": "9b36803d",
   "metadata": {
    "editable": true,
    "slideshow": {
     "slide_type": "subslide"
    },
    "tags": []
   },
   "source": [
    "Once you start thinking in terms of recursion, you will see it all around you! Here are some examples."
   ]
  },
  {
   "cell_type": "markdown",
   "id": "cab7aeea-ea3a-4f70-a121-ad3005e6f5eb",
   "metadata": {
    "editable": true,
    "slideshow": {
     "slide_type": "subslide"
    },
    "tags": []
   },
   "source": [
    "Recursion is known in nature:\n",
    "\n",
    "![image.png](https://upload.wikimedia.org/wikipedia/commons/thumb/5/5e/Romanesco_broccoli_%28Brassica_oleracea%29.jpg/480px-Romanesco_broccoli_%28Brassica_oleracea%29.jpg)\n",
    "\n",
    "(Image source: Wikidata)"
   ]
  },
  {
   "cell_type": "markdown",
   "id": "a51c5d1a-acea-4135-8b39-6dc7eae92cb0",
   "metadata": {
    "editable": true,
    "slideshow": {
     "slide_type": "subslide"
    },
    "tags": []
   },
   "source": [
    "And in art:\n",
    "\n",
    "![recursion image](https://live.staticflickr.com/91/279433682_23ac618518_b.jpg)\n",
    "\n",
    "(Image source: https://www.flickr.com/photos/gadl/)"
   ]
  },
  {
   "cell_type": "markdown",
   "id": "7a9bd603-50d8-495a-9421-074efdab6574",
   "metadata": {
    "editable": true,
    "slideshow": {
     "slide_type": "subslide"
    },
    "tags": []
   },
   "source": [
    "And if you have ever written an *inductive proof*, recursion will look familiar."
   ]
  },
  {
   "cell_type": "markdown",
   "id": "610acb47",
   "metadata": {
    "editable": true,
    "slideshow": {
     "slide_type": "slide"
    },
    "tags": []
   },
   "source": [
    "## Recursion Example 1: Factorials\n",
    "\n",
    "The *factorial* of an integer is the multiple of all the integers between that number and 1.\n",
    "\n",
    "For this problem:\n",
    "\n",
    "* what is the base case?\n",
    "* what is the step that reduces a complex case toward the base case?\n",
    "\n",
    "In the code cell below, write a recursive function to implement factorial."
   ]
  },
  {
   "cell_type": "code",
   "execution_count": null,
   "id": "241266d7",
   "metadata": {
    "editable": true,
    "slideshow": {
     "slide_type": "subslide"
    },
    "tags": []
   },
   "outputs": [],
   "source": [
    "def factorial(n):\n",
    "    \"\"\" Recursive implementation that calculates the factorial of n.\n",
    "    \n",
    "    :param n: a number \n",
    "    :type n: int\n",
    "    :returns: the factorial of n\n",
    "    :rtype: int\n",
    "    \"\"\"\n",
    "    # use an if statement for the base case\n",
    "    \n",
    "    # else do the reduction step\n"
   ]
  },
  {
   "cell_type": "markdown",
   "id": "74217cdb",
   "metadata": {
    "editable": true,
    "slideshow": {
     "slide_type": "slide"
    },
    "tags": []
   },
   "source": [
    "## Recursion Example 2: Nested Lists\n",
    "\n",
    "As you know, in python a list can contain a list. Several of you have asked me how you can tell if a single (non-list) item is anywhere in a list-of-lists. You can do this recursively!\n",
    "\n",
    "For this problem:\n",
    "* what is the base case?\n",
    "* what is the step that reduces a complex case toward the base case?\n",
    "\n",
    "In the code cell below, write a recursive function to implement `find_in_list_of_lists`."
   ]
  },
  {
   "cell_type": "code",
   "execution_count": null,
   "id": "90eed351",
   "metadata": {
    "editable": true,
    "slideshow": {
     "slide_type": "fragment"
    },
    "tags": []
   },
   "outputs": [],
   "source": []
  },
  {
   "cell_type": "markdown",
   "id": "4a8ebae4",
   "metadata": {
    "editable": true,
    "slideshow": {
     "slide_type": "slide"
    },
    "tags": []
   },
   "source": [
    "## Recursion Example 3: Descending a Tree\n",
    "\n",
    "How many of you climbed trees as children? If you did, you know that to get up (or down) a tree, you first find and ascend (descend) the next limb, then you go up (or down) the rest of the tree! This is a recursive definition for tree climbing."
   ]
  },
  {
   "cell_type": "markdown",
   "id": "847bbab0-c5d3-4f07-8d63-e0d60e081b3f",
   "metadata": {
    "editable": true,
    "slideshow": {
     "slide_type": "subslide"
    },
    "tags": []
   },
   "source": [
    "In computer science, there is a **data structure** called a **tree**. A tree consists of **nodes**. A node might be an *internal node* (which has children) or a *leaf node* (no children!). The node that is not a child of any other node is the **root node** of the tree. \n",
    "\n",
    "![a tree](https://i.ytimg.com/vi/9uA0y_rvSC0/maxresdefault.jpg)\n",
    "\n",
    "(Image source: https://www.youtube.com/watch?v=9uA0y_rvSC0)"
   ]
  },
  {
   "cell_type": "markdown",
   "id": "6d4cfff2-768f-4199-b69a-9c33c3cc6859",
   "metadata": {
    "editable": true,
    "slideshow": {
     "slide_type": "subslide"
    },
    "tags": []
   },
   "source": [
    "Navigating a tree data structure involves:\n",
    "\n",
    "* a simple base case - a leaf node; do whatever you want to do to it\n",
    "* a step to reduce a complex case (an internal node) toward the base case: do whatever you want to do to this node, then navigate each of the child nodes\n"
   ]
  },
  {
   "cell_type": "markdown",
   "id": "be1f3a63",
   "metadata": {
    "editable": true,
    "slideshow": {
     "slide_type": "subslide"
    },
    "tags": []
   },
   "source": [
    "Let's define a tree where each node contains a string (its name). We will use a dictionary of dictionaries to do this.\n",
    "\n",
    "On a piece of paper, draw this tree. Put the node names inside the nodes."
   ]
  },
  {
   "cell_type": "code",
   "execution_count": 2,
   "id": "1399fd3f",
   "metadata": {
    "editable": true,
    "slideshow": {
     "slide_type": "fragment"
    },
    "tags": []
   },
   "outputs": [],
   "source": [
    "# define a tree\n",
    "my_tree = {'0': {'1': {'2': {'3': {}}, '4': {}}}, '5': {'6': {}, '7': {}}}"
   ]
  },
  {
   "cell_type": "markdown",
   "id": "f92134df",
   "metadata": {
    "editable": true,
    "slideshow": {
     "slide_type": "subslide"
    },
    "tags": []
   },
   "source": [
    "Now, define a function `navigate` that takes a parameter `node` (a dictionary) and recursively walks down the subtree rooted at the node."
   ]
  },
  {
   "cell_type": "code",
   "execution_count": 3,
   "id": "5aabfd3b",
   "metadata": {
    "editable": true,
    "slideshow": {
     "slide_type": "fragment"
    },
    "tags": []
   },
   "outputs": [],
   "source": [
    "# define navigate\n"
   ]
  },
  {
   "cell_type": "markdown",
   "id": "3b5b882e",
   "metadata": {
    "editable": true,
    "slideshow": {
     "slide_type": "subslide"
    },
    "tags": []
   },
   "source": [
    "Tomorrow, we will see an example where recursion is useful in NLP!"
   ]
  }
 ],
 "metadata": {
  "kernelspec": {
   "display_name": "Python 3 (ipykernel)",
   "language": "python",
   "name": "python3"
  },
  "language_info": {
   "codemirror_mode": {
    "name": "ipython",
    "version": 3
   },
   "file_extension": ".py",
   "mimetype": "text/x-python",
   "name": "python",
   "nbconvert_exporter": "python",
   "pygments_lexer": "ipython3",
   "version": "3.10.8"
  }
 },
 "nbformat": 4,
 "nbformat_minor": 5
}
