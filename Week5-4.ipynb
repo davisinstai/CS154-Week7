{
 "cells": [
  {
   "cell_type": "markdown",
   "metadata": {},
   "source": [
    "# Review"
   ]
  },
  {
   "cell_type": "markdown",
   "metadata": {
    "editable": true,
    "slideshow": {
     "slide_type": ""
    },
    "tags": []
   },
   "source": [
    "Question 1: *What are the three parts of a function signature in python?*\n",
    "\n",
    "1. part one\n",
    "2. part two\n",
    "3. part three"
   ]
  },
  {
   "cell_type": "markdown",
   "metadata": {},
   "source": [
    "Question 2: *What two basic types of parameter can a function have?*"
   ]
  },
  {
   "cell_type": "markdown",
   "metadata": {},
   "source": [
    "Question 3: *How can you tell the type of a function parameter in python?*"
   ]
  },
  {
   "cell_type": "markdown",
   "metadata": {},
   "source": [
    "Question 4: *Without a `return` statement, what does a function return?*"
   ]
  },
  {
   "cell_type": "markdown",
   "metadata": {},
   "source": [
    "Question 5: *A variable defined outside any function or module is in what scope?*"
   ]
  },
  {
   "cell_type": "markdown",
   "metadata": {},
   "source": [
    "Question 6: *A variable defined inside a function is in what scope?*"
   ]
  },
  {
   "cell_type": "markdown",
   "metadata": {},
   "source": [
    "Question 7: *What is one advantage of using functions to program?*"
   ]
  },
  {
   "cell_type": "markdown",
   "metadata": {},
   "source": [
    "Question 8: *Find an example of recursion in art, music, sports or nature. Briefly describe it here:*"
   ]
  },
  {
   "cell_type": "markdown",
   "metadata": {},
   "source": [
    "Question 9: *Provide the two steps to solving a recursive problem:*\n",
    "\n",
    "1. step 1\n",
    "2. step 2"
   ]
  },
  {
   "cell_type": "markdown",
   "metadata": {},
   "source": [
    "Question 10. *On Wednesday, we represented a tree as a dictionary of dictionaries. We can also represent a tree as a list of lists. For the tree we made on Wednesday (in python, as a dictionary of dictionaries), provide a definition (in python) as a list of lists:*"
   ]
  },
  {
   "cell_type": "code",
   "execution_count": null,
   "metadata": {},
   "outputs": [],
   "source": []
  },
  {
   "cell_type": "markdown",
   "metadata": {},
   "source": [
    "# Resources\n",
    "\n",
    "* Arguments in python: https://builtin.com/software-engineering-perspectives/arguments-in-python\n",
    "* Recursion in python: https://realpython.com/python-recursion/\n",
    "* Constellate Python Basics 4: https://github.com/ithaka/constellate-notebooks/blob/master/python-basics-4.ipynb"
   ]
  }
 ],
 "metadata": {
  "kernelspec": {
   "display_name": "Python 3 (ipykernel)",
   "language": "python",
   "name": "python3"
  },
  "language_info": {
   "codemirror_mode": {
    "name": "ipython",
    "version": 3
   },
   "file_extension": ".py",
   "mimetype": "text/x-python",
   "name": "python",
   "nbconvert_exporter": "python",
   "pygments_lexer": "ipython3",
   "version": "3.10.8"
  }
 },
 "nbformat": 4,
 "nbformat_minor": 4
}
